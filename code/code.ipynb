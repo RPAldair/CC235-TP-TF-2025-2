{
 "cells": [
  {
   "cell_type": "markdown",
   "id": "a44afd88",
   "metadata": {},
   "source": [
    "## **Proximo codigo de desarrollo.**"
   ]
  }
 ],
 "metadata": {
  "language_info": {
   "name": "python"
  }
 },
 "nbformat": 4,
 "nbformat_minor": 5
}
